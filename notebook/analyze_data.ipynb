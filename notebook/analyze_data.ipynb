{
 "cells": [
  {
   "cell_type": "code",
   "execution_count": null,
   "id": "1d3f4e0b",
   "metadata": {},
   "outputs": [],
   "source": [
    "%load_ext nb_black"
   ]
  },
  {
   "cell_type": "code",
   "execution_count": null,
   "id": "4baed23e",
   "metadata": {},
   "outputs": [],
   "source": [
    "%cd ~/customer_segmentation/"
   ]
  },
  {
   "cell_type": "code",
   "execution_count": null,
   "id": "ce39d1de",
   "metadata": {},
   "outputs": [],
   "source": [
    "import matplotlib.pyplot as plt\n",
    "import numpy as np\n",
    "import pandas as pd\n",
    "import plotly.express as px\n",
    "import seaborn as sns\n",
    "from IPython.core.pylabtools import figsize\n",
    "from matplotlib.colors import ListedColormap\n",
    "from mpl_toolkits.mplot3d import Axes3D\n",
    "from pandasgui import show\n",
    "from sklearn import metrics\n",
    "from sklearn.cluster import AgglomerativeClustering, KMeans\n",
    "from yellowbrick.cluster import KElbowVisualizer"
   ]
  },
  {
   "cell_type": "code",
   "execution_count": null,
   "id": "a9ac94d8",
   "metadata": {},
   "outputs": [],
   "source": [
    "df = pd.read_csv(\"data/final/segmented.csv\", index_col=0)"
   ]
  },
  {
   "cell_type": "code",
   "execution_count": null,
   "id": "31aae2b2",
   "metadata": {},
   "outputs": [],
   "source": [
    "df.columns"
   ]
  },
  {
   "cell_type": "code",
   "execution_count": null,
   "id": "096eb9a9",
   "metadata": {},
   "outputs": [],
   "source": [
    "sns.countplot(x=df[\"clusters\"])\n",
    "plt.plot()"
   ]
  },
  {
   "cell_type": "code",
   "execution_count": null,
   "id": "3e2879f8",
   "metadata": {},
   "outputs": [],
   "source": [
    "def create_box_plot(df: pd.DataFrame, y: str):\n",
    "    sorted_clusters = (\n",
    "        df.groupby([\"clusters\"]).agg({y: \"median\"}).sort_values(by=y).index\n",
    "    )\n",
    "    sns.boxplot(data=df, x=\"clusters\", y=y, order=sorted_clusters)\n",
    "    plt.plot()"
   ]
  },
  {
   "cell_type": "code",
   "execution_count": null,
   "id": "6772ebb4",
   "metadata": {},
   "outputs": [],
   "source": [
    "create_box_plot(df, \"Income\")"
   ]
  },
  {
   "cell_type": "code",
   "execution_count": null,
   "id": "fbb0b750",
   "metadata": {},
   "outputs": [],
   "source": [
    "create_box_plot(df, \"NumWebVisitsMonth\")"
   ]
  },
  {
   "cell_type": "code",
   "execution_count": null,
   "id": "7837148f",
   "metadata": {},
   "outputs": [],
   "source": [
    "create_box_plot(df, \"age\")"
   ]
  },
  {
   "cell_type": "code",
   "execution_count": null,
   "id": "3fa5c8c7",
   "metadata": {},
   "outputs": [],
   "source": [
    "create_box_plot(df, \"total_purchases\")"
   ]
  },
  {
   "cell_type": "code",
   "execution_count": null,
   "id": "15f40b88",
   "metadata": {},
   "outputs": [],
   "source": [
    "create_box_plot(df, \"family_size\")"
   ]
  }
 ],
 "metadata": {
  "hide_input": false,
  "interpreter": {
   "hash": "4d434d5ef086bedd16efcd2361c0add02e37807d20c32e890f8acb9574c06275"
  },
  "kernelspec": {
   "display_name": "Python 3 (ipykernel)",
   "language": "python",
   "name": "python3"
  },
  "language_info": {
   "codemirror_mode": {
    "name": "ipython",
    "version": 3
   },
   "file_extension": ".py",
   "mimetype": "text/x-python",
   "name": "python",
   "nbconvert_exporter": "python",
   "pygments_lexer": "ipython3",
   "version": "3.8.10"
  },
  "toc": {
   "base_numbering": 1,
   "nav_menu": {},
   "number_sections": true,
   "sideBar": true,
   "skip_h1_title": false,
   "title_cell": "Table of Contents",
   "title_sidebar": "Contents",
   "toc_cell": false,
   "toc_position": {},
   "toc_section_display": true,
   "toc_window_display": false
  }
 },
 "nbformat": 4,
 "nbformat_minor": 5
}
