{
 "cells": [
  {
   "cell_type": "code",
   "execution_count": null,
   "id": "f894664a",
   "metadata": {},
   "outputs": [],
   "source": [
    "%load_ext nb_black"
   ]
  },
  {
   "cell_type": "code",
   "execution_count": null,
   "id": "6440ec12",
   "metadata": {},
   "outputs": [],
   "source": [
    "%cd ~/customer_segmentation/"
   ]
  },
  {
   "cell_type": "code",
   "execution_count": null,
   "id": "cf83bd4d",
   "metadata": {},
   "outputs": [],
   "source": [
    "import pandas as pd\n",
    "import seaborn as sns\n",
    "import matplotlib.pyplot as plt\n",
    "from IPython.core.pylabtools import figsize\n",
    "from pandasgui import show\n",
    "import plotly.express as px\n",
    "from yellowbrick.cluster import KElbowVisualizer\n",
    "from sklearn.cluster import KMeans\n",
    "import matplotlib.pyplot as plt, numpy as np\n",
    "from mpl_toolkits.mplot3d import Axes3D\n",
    "from sklearn.cluster import AgglomerativeClustering\n",
    "from matplotlib.colors import ListedColormap\n",
    "from sklearn import metrics"
   ]
  },
  {
   "cell_type": "code",
   "execution_count": null,
   "id": "f38a06b7",
   "metadata": {},
   "outputs": [],
   "source": [
    "df = pd.read_csv(\"data/final/segmented.csv\", index_col=0)"
   ]
  },
  {
   "cell_type": "code",
   "execution_count": null,
   "id": "192c4429",
   "metadata": {},
   "outputs": [],
   "source": [
    "df.columns"
   ]
  },
  {
   "cell_type": "code",
   "execution_count": null,
   "id": "8dd843bf",
   "metadata": {},
   "outputs": [],
   "source": [
    "sns.countplot(x=df[\"clusters\"])\n",
    "plt.plot()"
   ]
  },
  {
   "cell_type": "code",
   "execution_count": null,
   "id": "29f69846",
   "metadata": {},
   "outputs": [],
   "source": [
    "def create_box_plot(df: pd.DataFrame, y: str):\n",
    "    sorted_clusters = (\n",
    "        df.groupby([\"clusters\"]).agg({y: \"median\"}).sort_values(by=y).index\n",
    "    )\n",
    "    sns.boxplot(data=df, x=\"clusters\", y=y, order=sorted_clusters)\n",
    "    plt.plot()"
   ]
  },
  {
   "cell_type": "code",
   "execution_count": null,
   "id": "406eec83",
   "metadata": {},
   "outputs": [],
   "source": [
    "create_box_plot(df, \"Income\")"
   ]
  },
  {
   "cell_type": "code",
   "execution_count": null,
   "id": "e67c7ac7",
   "metadata": {},
   "outputs": [],
   "source": [
    "create_box_plot(df, \"NumWebVisitsMonth\")"
   ]
  },
  {
   "cell_type": "code",
   "execution_count": null,
   "id": "1e968a1a",
   "metadata": {},
   "outputs": [],
   "source": [
    "create_box_plot(df, \"age\")"
   ]
  },
  {
   "cell_type": "code",
   "execution_count": null,
   "id": "8dc713d2",
   "metadata": {},
   "outputs": [],
   "source": [
    "create_box_plot(df, \"total_purchases\")"
   ]
  },
  {
   "cell_type": "code",
   "execution_count": null,
   "id": "e42bc7d2",
   "metadata": {},
   "outputs": [],
   "source": [
    "create_box_plot(df, \"family_size\")"
   ]
  },
  {
   "cell_type": "code",
   "execution_count": null,
   "id": "8c34b63b",
   "metadata": {},
   "outputs": [],
   "source": []
  }
 ],
 "metadata": {
  "hide_input": false,
  "kernelspec": {
   "display_name": "Python 3.9.13 ('venv': venv)",
   "language": "python",
   "name": "python3"
  },
  "language_info": {
   "codemirror_mode": {
    "name": "ipython",
    "version": 3
   },
   "file_extension": ".py",
   "mimetype": "text/x-python",
   "name": "python",
   "nbconvert_exporter": "python",
   "pygments_lexer": "ipython3",
   "version": "3.9.13"
  },
  "toc": {
   "base_numbering": 1,
   "nav_menu": {},
   "number_sections": true,
   "sideBar": true,
   "skip_h1_title": false,
   "title_cell": "Table of Contents",
   "title_sidebar": "Contents",
   "toc_cell": false,
   "toc_position": {},
   "toc_section_display": true,
   "toc_window_display": false
  },
  "vscode": {
   "interpreter": {
    "hash": "112f88a7109f789e2c8c7c20353cf6e984d90375aafadad621d8d8fc56fbaa7a"
   }
  }
 },
 "nbformat": 4,
 "nbformat_minor": 5
}
